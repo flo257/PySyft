{
 "cells": [
  {
   "cell_type": "code",
   "execution_count": 1,
   "metadata": {},
   "outputs": [
    {
     "name": "stderr",
     "output_type": "stream",
     "text": [
      "WARNING: Logging before flag parsing goes to stderr.\n",
      "W1111 15:28:44.649878  1484 secure_random.py:26] Falling back to insecure randomness since the required custom op could not be found for the installed version of TensorFlow. Fix this by compiling custom ops. Missing file was 'c:\\users\\florian\\appdata\\local\\programs\\python\\python37\\lib\\site-packages\\tf_encrypted-0.5.9-py3.7.egg\\tf_encrypted/operations/secure_random/secure_random_module_tf_1.15.0-rc3.so'\n",
      "W1111 15:28:44.672873  1484 module_wrapper.py:139] From c:\\users\\florian\\appdata\\local\\programs\\python\\python37\\lib\\site-packages\\tf_encrypted-0.5.9-py3.7.egg\\tf_encrypted\\session.py:24: The name tf.Session is deprecated. Please use tf.compat.v1.Session instead.\n",
      "\n"
     ]
    }
   ],
   "source": [
    "#Import required libraries\n",
    "import torch\n",
    "import torch.nn as nn\n",
    "import torch.nn.functional as F\n",
    "import torch.optim as optim\n",
    "from torchvision import datasets, transforms\n",
    "from torch.autograd import Variable\n",
    "import syft as sy\n",
    "import sys\n",
    "import pdb \n",
    "import math\n",
    "import numpy as np\n",
    "import torchvision\n",
    "import matplotlib.pyplot as plt\n",
    "import torchvision.models as models\n",
    "from random import shuffle\n",
    "from torch.utils.data import SubsetRandomSampler, WeightedRandomSampler\n",
    "import torchvision.models as models\n",
    "import datetime"
   ]
  },
  {
   "cell_type": "code",
   "execution_count": 2,
   "metadata": {},
   "outputs": [],
   "source": [
    "torch.set_default_tensor_type(torch.cuda.FloatTensor)\n",
    "use_cuda = True\n",
    "kwargs = {'num_workers': 4, 'pin_memory': True} if use_cuda else {}\n",
    "device = torch.device(\"cuda\" if use_cuda else \"cpu\")\n",
    "batch_size = 10\n",
    "np.random.seed(1)"
   ]
  },
  {
   "cell_type": "markdown",
   "metadata": {},
   "source": [
    "# Creating workers"
   ]
  },
  {
   "cell_type": "code",
   "execution_count": 3,
   "metadata": {},
   "outputs": [],
   "source": [
    "hook = sy.TorchHook(torch)  # <-- NEW: hook PyTorch ie add extra functionalities to support Federated Learning\n",
    "\n",
    "alice = sy.VirtualWorker(hook, id=\"alice\")  # <-- NEW: and alice\n",
    "bob = sy.VirtualWorker(hook, id=\"bob\")  # <-- NEW: define remote worker\n",
    "chalie = sy.VirtualWorker(hook, id=\"chalie\")  # <-- NEW: define remote worker\n",
    "dave = sy.VirtualWorker(hook, id=\"dave\")  # <-- NEW: define remote worker\n",
    "#evelyn = sy.VirtualWorker(hook, id=\"evelyn\")  # <-- NEW: define remote worker\n",
    "\n",
    "fraudulin = sy.VirtualWorker(hook, id=\"fraudulin\")\n",
    "#fraudrich = sy.VirtualWorker(hook, id=\"fraudrich\") \n",
    "\n",
    "compute_nodes = [alice, bob, chalie, dave]\n",
    "frauds = [fraudulin]"
   ]
  },
  {
   "cell_type": "markdown",
   "metadata": {},
   "source": [
    "# Helper function for dataset loader generation"
   ]
  },
  {
   "cell_type": "code",
   "execution_count": 4,
   "metadata": {},
   "outputs": [],
   "source": [
    "def generateLoadersPerClass(dataset):\n",
    "    #loaders per class\n",
    "    loaders_per_class = []\n",
    "    for class_name in dataset.classes:\n",
    "        # get the indices in the dataset that are relative to that class\n",
    "        idx = [\n",
    "            pos for pos, item in enumerate(dataset.samples)\n",
    "            if item[1] == dataset.class_to_idx[class_name]]\n",
    "        # construct the corresponding dataloader thanks to a SubsetRandomSampler\n",
    "        loaders_per_class += [torch.utils.data.DataLoader(\n",
    "            dataset, \n",
    "            batch_size=batch_size,\n",
    "            sampler=SubsetRandomSampler(idx),\n",
    "            **kwargs)]\n",
    "    return loaders_per_class"
   ]
  },
  {
   "cell_type": "markdown",
   "metadata": {},
   "source": [
    "# Loading training & test datasets"
   ]
  },
  {
   "cell_type": "code",
   "execution_count": 5,
   "metadata": {},
   "outputs": [],
   "source": [
    "data_transform = transforms.Compose([\n",
    "        transforms.Resize((32,32)),\n",
    "        transforms.ToTensor(),                     \n",
    "        transforms.Normalize(                     \n",
    "            mean=[0.485, 0.456, 0.406],               \n",
    "            std=[0.229, 0.224, 0.225]                  \n",
    "        )])\n",
    "\n",
    "\n",
    "#benign data\n",
    "trafficsign = datasets.ImageFolder(root = \n",
    "                             'C:\\\\Users\\Florian\\\\Desktop\\\\Datensätze_ready\\\\Traffic\\\\original',\n",
    "                             transform=data_transform)\n",
    "original_loaders = generateLoadersPerClass(trafficsign)\n",
    "\n",
    "#benign test data\n",
    "testdata = datasets.ImageFolder(root = \n",
    "                             'C:\\\\Users\\Florian\\\\Desktop\\\\Datensätze_ready\\\\Traffic\\\\original_test',\n",
    "                             transform=data_transform)\n",
    "\n",
    "test_loader = torch.utils.data.DataLoader(testdata, batch_size=batch_size, **kwargs)\n"
   ]
  },
  {
   "cell_type": "markdown",
   "metadata": {},
   "source": [
    "# Load backdoor dataset"
   ]
  },
  {
   "cell_type": "code",
   "execution_count": 6,
   "metadata": {},
   "outputs": [],
   "source": [
    "#malicious data\n",
    "backdoored = datasets.ImageFolder(root = \n",
    "                             'C:\\\\Users\\Florian\\\\Desktop\\\\Datensätze_ready\\\\Traffic\\\\backdoors_greensquare',\n",
    "                             transform=data_transform)\n",
    "backdoored.samples = [(d, 0) for d, s in backdoored.samples] #set each image of backdoors to 001\n",
    "backdoored_loaders = generateLoadersPerClass(backdoored)\n",
    "\n",
    "#malicious test data\n",
    "backdoored_test = datasets.ImageFolder(root = \n",
    "                             'C:\\\\Users\\Florian\\\\Desktop\\\\Datensätze_ready\\\\Traffic\\\\backdoors_greensquare_test',\n",
    "                             transform=data_transform)\n",
    "backdoored_test.samples = [(d, 0) for d, s in backdoored_test.samples] #set each image of backdoors to 001\n",
    "\n",
    "dataset_loader_backdoored_test = torch.utils.data.DataLoader(backdoored_test, batch_size=batch_size, **kwargs)"
   ]
  },
  {
   "cell_type": "markdown",
   "metadata": {},
   "source": [
    "# Visualize some training data"
   ]
  },
  {
   "cell_type": "code",
   "execution_count": 7,
   "metadata": {},
   "outputs": [
    {
     "data": {
      "image/png": "[encoded data removed]",
      "text/plain": [
       "<Figure size 432x288 with 1 Axes>"
      ]
     },
     "metadata": {
      "needs_background": "light"
     },
     "output_type": "display_data"
    }
   ],
   "source": [
    "#Let’s visualize a few training images so as to understand the data augmentations.\n",
    "\n",
    "def imshow(inp, title=None):\n",
    "    \"\"\"Imshow for Tensor.\"\"\"\n",
    "    inp = inp.numpy().transpose((1, 2, 0))\n",
    "    mean = np.array([0.485, 0.456, 0.406])\n",
    "    std = np.array([0.229, 0.224, 0.225])\n",
    "    inp = std * inp + mean\n",
    "    inp = np.clip(inp, 0, 1)\n",
    "    plt.imshow(inp)\n",
    "    if title is not None:\n",
    "        plt.title(title)\n",
    "    plt.pause(0.001)  # pause a bit so that plots are updated\n",
    "\n",
    "class_names = trafficsign.classes\n",
    "# Get a batch of training data\n",
    "inputs, classes = next(iter(original_loaders[1]))\n",
    "\n",
    "# Make a grid from batch\n",
    "out = torchvision.utils.make_grid(inputs)\n",
    "\n",
    "imshow(out, title=[class_names[x] for x in classes])"
   ]
  },
  {
   "cell_type": "markdown",
   "metadata": {},
   "source": [
    "# Neural Network Structure"
   ]
  },
  {
   "cell_type": "code",
   "execution_count": null,
   "metadata": {},
   "outputs": [],
   "source": [
    "class Net(nn.Module):\n",
    "    def __init__(self):\n",
    "        super(Net, self).__init__()\n",
    "        self.conv0 = nn.Conv2d(in_channels=3, out_channels=16, kernel_size=5) #kernel size = filter size\n",
    "        self.conv1 = nn.Conv2d(16, 32, 5)\n",
    "        self.pool = nn.MaxPool2d(2,stride=2)           #First Max-Pooling Layer\n",
    "        self.conv2 = nn.Conv2d(32, 96, 3)\n",
    "        self.conv3 = nn.Conv2d(96, 256, 3)\n",
    "        self.pool = nn.MaxPool2d(2, stride=2)\n",
    "        self.dropout = nn.Dropout2d(p=0.37)\n",
    "        self.fc0 = nn.Linear(256*4*4,2048)            #First Fully-Connected Layer (256*12*12 for 64x64 images)\n",
    "        self.dropout = nn.Dropout2d(p=0.37)\n",
    "        self.fc1 = nn.Linear(2048, 1024)\n",
    "        self.dropout = nn.Dropout2d(p=0.37)\n",
    "        self.fc2 = nn.Linear(1024, len(class_names))\n",
    "        #cannot do batchnorm after every conf layer as described in paper, because batchnorm is not supported\n",
    "\n",
    "\n",
    "    def forward(self, x):\n",
    "        #import pdb; pdb.set_trace()\n",
    "        x = F.relu(self.conv0(x))\n",
    "        x = self.pool(F.relu(self.conv1(x)))\n",
    "        x = F.relu(self.conv2(x))\n",
    "        x = self.pool(F.relu(self.conv3(x)))\n",
    "        x = self.dropout(x)\n",
    "        #print(x.shape)\n",
    "        x = x.view(-1, 256*4*4)\n",
    "        x = self.fc0(x)\n",
    "        x = self.dropout(x)\n",
    "        x = self.fc1(x)\n",
    "        x = self.dropout(x)\n",
    "        x = self.fc2(x)\n",
    "        return F.log_softmax(x, dim=1)\n",
    "    \n",
    "#http://publications.lib.chalmers.se/records/fulltext/255863/255863.pdf"
   ]
  },
  {
   "cell_type": "markdown",
   "metadata": {},
   "source": [
    "# Send dataset to clients"
   ]
  },
  {
   "cell_type": "code",
   "execution_count": null,
   "metadata": {},
   "outputs": [],
   "source": [
    "train_distributed_dataset = []\n",
    "train_distributed_dataset_backdoor = []\n",
    "\n",
    "#EACH CLIENT KNOWS EACH CLASS\n",
    "#normal clients\n",
    "for loader in original_loaders:\n",
    "    for batch_idx, (data,target) in enumerate(loader):\n",
    "                data_append = data.send(compute_nodes[batch_idx % len(compute_nodes)], inplace = True)\n",
    "                target_append = target.send(compute_nodes[batch_idx % len(compute_nodes)], inplace = True)\n",
    "                train_distributed_dataset.append((data_append, target_append))\n",
    "\n",
    "#backdoored clients\n",
    "for loader in backdoored_loaders:\n",
    "    for batch_idx, (data,target) in enumerate(loader):\n",
    "                data_append = data.send(frauds[batch_idx % len(frauds)], inplace = True)\n",
    "                target_append = target.send(frauds[batch_idx % len(frauds)], inplace = True)\n",
    "                train_distributed_dataset_backdoor.append((data_append, target_append))\n",
    "            \n",
    "#shuffle list\n",
    "shuffle(train_distributed_dataset)\n",
    "shuffle(train_distributed_dataset_backdoor)\n",
    "\n",
    "#get subset of data to match with the number of benign and malicious nodes\n",
    "total_data = len(train_distributed_dataset) * (len(compute_nodes) + len(frauds))/len(compute_nodes)\n",
    "fraction_of_backdoored_clients = len(frauds)/(len(compute_nodes) + len(frauds))\n",
    "train_distributed_dataset_backdoor = train_distributed_dataset_backdoor[:int(total_data*fraction_of_backdoored_clients)]\n"
   ]
  },
  {
   "cell_type": "markdown",
   "metadata": {},
   "source": [
    "# Training Function"
   ]
  },
  {
   "cell_type": "code",
   "execution_count": null,
   "metadata": {},
   "outputs": [],
   "source": [
    "def train(epoch, normal_or_backdoored_dataset):\n",
    "    model.train()\n",
    "    totalloss = 0\n",
    "    number_iterations = 0\n",
    "    \n",
    "    for batch_idx, (data,target) in enumerate(normal_or_backdoored_dataset):   \n",
    "        number_iterations +=1\n",
    "        model.send(data.location) # 0) send the model to the right location\n",
    "        data, target = data.to(device), target.to(device)\n",
    "        optimizer.zero_grad() # 1) erase previous gradients (if they exist)\n",
    "        output = model(data)  # 2) make a prediction\n",
    "        loss = F.cross_entropy(output, target) # 3) calculate how much we missed\n",
    "        loss.backward() # 4) figure out which weights caused us to miss\n",
    "        optimizer.step() # 5) change those weights\n",
    "        model.get() # 6) get model (with gradients)\n",
    "            \n",
    "        #if batch_idx % 300 == 0:\n",
    "        loss = loss.get() # <-- NEW: get the loss back\n",
    "        #print('Train Epoch: {} [{}/{} ({:.0f}%)]\\tLoss: {:.6f}'.format(\n",
    "        #        epoch, batch_idx * batch_size, len(normal_or_backdoored_dataset) * batch_size,\n",
    "        #        100. * batch_idx / len(normal_or_backdoored_dataset), loss.item()))\n",
    "        totalloss += loss\n",
    "    print('Average training loss: {}'.format(totalloss/number_iterations))\n",
    "    return float(totalloss/number_iterations)"
   ]
  },
  {
   "cell_type": "markdown",
   "metadata": {},
   "source": [
    "# Test Function"
   ]
  },
  {
   "cell_type": "code",
   "execution_count": null,
   "metadata": {},
   "outputs": [],
   "source": [
    "def test(model, device, test_loader, length_of_dataset):\n",
    "    model.eval()\n",
    "    test_loss = 0\n",
    "    correct = 0    \n",
    "    with torch.no_grad():\n",
    "        for data, target in test_loader:\n",
    "            data, target = data.to(device), target.to(device)\n",
    "            output = model(data)\n",
    "            test_loss += F.cross_entropy(output, target, reduction='sum').item() # sum up batch loss\n",
    "            pred = output.argmax(1, keepdim=True) # get the index of the max log-probability \n",
    "            correct += pred.eq(target.view_as(pred)).sum().item()\n",
    "\n",
    "    test_loss /= length_of_dataset\n",
    "\n",
    "    print('\\nTest set: Average loss: {:.4f}, Accuracy: {}/{} ({:.0f}%)\\n'.format(\n",
    "        test_loss, correct, length_of_dataset,\n",
    "        100. * correct / length_of_dataset))\n",
    "    \n",
    "    #confusion matrix\n",
    "    nb_classes = len(class_names)\n",
    "    confusion_matrix = torch.zeros(nb_classes, nb_classes)\n",
    "    with torch.no_grad():\n",
    "        for i, (inputs, classes) in enumerate(test_loader):\n",
    "            inputs = inputs.to(device)\n",
    "            classes = classes.to(device)\n",
    "            outputs = model(inputs)\n",
    "            _, preds = torch.max(outputs, 1)\n",
    "            for t, p in zip(classes.view(-1), preds.view(-1)):\n",
    "                    confusion_matrix[t.long(), p.long()] += 1\n",
    "    print(confusion_matrix)\n",
    "    print(confusion_matrix.diag()/confusion_matrix.sum(1)) #per class accuracy\n",
    "         \n",
    "    return test_loss, str((100. * correct / length_of_dataset))"
   ]
  },
  {
   "cell_type": "markdown",
   "metadata": {},
   "source": [
    "# Run everyting"
   ]
  },
  {
   "cell_type": "code",
   "execution_count": null,
   "metadata": {},
   "outputs": [],
   "source": [
    "#helper function for learning rate\n",
    "def get_lr(optimizer):\n",
    "    for param_group in optimizer.param_groups:\n",
    "        return param_group['lr']"
   ]
  },
  {
   "cell_type": "code",
   "execution_count": null,
   "metadata": {},
   "outputs": [
    {
     "name": "stdout",
     "output_type": "stream",
     "text": [
      "#merge strategy: sequential\n",
      "#number of distributed sources: 5\n",
      "#batch size: 10\n",
      "#distribution of data: equally distributed subset\n",
      "#percentage of backdoored nodes: 0.2\n",
      "#percentage of poisoned data in backdoored nodes: 100\n",
      "#way backdoor looks like: green_squares\n",
      "#order of time: backdoors last\n",
      "#attack model: basic\n",
      "#starttime: 152946\n",
      "training_type;epoch_number;learn_rate;avg_training_loss;avg_test_loss;test_accuracy;timestamp\n",
      "\n",
      "Average training loss: 1.0653536319732666\n",
      "Average training loss: 0.06889331340789795\n",
      "\n",
      "Test set: Average loss: 0.0004, Accuracy: 3603/3603 (100%)\n",
      "\n",
      "tensor([[3603.,    0.,    0.,    0.,    0.,    0.,    0.,    0.,    0.,    0.],\n",
      "        [   0.,    0.,    0.,    0.,    0.,    0.,    0.,    0.,    0.,    0.],\n",
      "        [   0.,    0.,    0.,    0.,    0.,    0.,    0.,    0.,    0.,    0.],\n",
      "        [   0.,    0.,    0.,    0.,    0.,    0.,    0.,    0.,    0.,    0.],\n",
      "        [   0.,    0.,    0.,    0.,    0.,    0.,    0.,    0.,    0.,    0.],\n",
      "        [   0.,    0.,    0.,    0.,    0.,    0.,    0.,    0.,    0.,    0.],\n",
      "        [   0.,    0.,    0.,    0.,    0.,    0.,    0.,    0.,    0.,    0.],\n",
      "        [   0.,    0.,    0.,    0.,    0.,    0.,    0.,    0.,    0.,    0.],\n",
      "        [   0.,    0.,    0.,    0.,    0.,    0.,    0.,    0.,    0.,    0.],\n",
      "        [   0.,    0.,    0.,    0.,    0.,    0.,    0.,    0.,    0.,    0.]])\n",
      "tensor([1., nan, nan, nan, nan, nan, nan, nan, nan, nan])\n",
      "\n",
      "Test set: Average loss: 14.4046, Accuracy: 197/3603 (5%)\n",
      "\n",
      "tensor([[ 197.,    0.,    0.,    0.,    0.,    0.,    0.,    0.,    0.,    0.],\n",
      "        [ 200.,    0.,    0.,    0.,    0.,    0.,    0.,    0.,    0.,    0.],\n",
      "        [1082.,    0.,    0.,    0.,    0.,    0.,    0.,    0.,    0.,    0.],\n",
      "        [ 530.,    0.,    0.,    0.,    0.,    0.,    0.,    0.,    0.,    0.],\n",
      "        [ 444.,    0.,    0.,    0.,    0.,    0.,    0.,    0.,    0.,    0.],\n",
      "        [  82.,    0.,    0.,    0.,    0.,    0.,    0.,    0.,    0.,    0.],\n",
      "        [ 120.,    0.,    0.,    0.,    0.,    0.,    0.,    0.,    0.,    0.],\n",
      "        [ 264.,    0.,    0.,    0.,    0.,    0.,    0.,    0.,    0.,    0.],\n",
      "        [  35.,    0.,    0.,    0.,    0.,    0.,    0.,    0.,    0.,    0.],\n",
      "        [ 649.,    0.,    0.,    0.,    0.,    0.,    0.,    0.,    0.,    0.]])\n",
      "tensor([1., 0., 0., 0., 0., 0., 0., 0., 0., 0.])\n",
      "Average training loss: 0.20115631818771362\n",
      "Average training loss: 0.06840452551841736\n",
      "\n",
      "Test set: Average loss: 0.0003, Accuracy: 3603/3603 (100%)\n",
      "\n",
      "tensor([[3603.,    0.,    0.,    0.,    0.,    0.,    0.,    0.,    0.,    0.],\n",
      "        [   0.,    0.,    0.,    0.,    0.,    0.,    0.,    0.,    0.,    0.],\n",
      "        [   0.,    0.,    0.,    0.,    0.,    0.,    0.,    0.,    0.,    0.],\n",
      "        [   0.,    0.,    0.,    0.,    0.,    0.,    0.,    0.,    0.,    0.],\n",
      "        [   0.,    0.,    0.,    0.,    0.,    0.,    0.,    0.,    0.,    0.],\n",
      "        [   0.,    0.,    0.,    0.,    0.,    0.,    0.,    0.,    0.,    0.],\n",
      "        [   0.,    0.,    0.,    0.,    0.,    0.,    0.,    0.,    0.,    0.],\n",
      "        [   0.,    0.,    0.,    0.,    0.,    0.,    0.,    0.,    0.,    0.],\n",
      "        [   0.,    0.,    0.,    0.,    0.,    0.,    0.,    0.,    0.,    0.],\n",
      "        [   0.,    0.,    0.,    0.,    0.,    0.,    0.,    0.,    0.,    0.]])\n",
      "tensor([1., nan, nan, nan, nan, nan, nan, nan, nan, nan])\n",
      "\n",
      "Test set: Average loss: 11.8888, Accuracy: 197/3603 (5%)\n",
      "\n",
      "tensor([[ 197.,    0.,    0.,    0.,    0.,    0.,    0.,    0.,    0.,    0.],\n",
      "        [ 200.,    0.,    0.,    0.,    0.,    0.,    0.,    0.,    0.,    0.],\n",
      "        [1082.,    0.,    0.,    0.,    0.,    0.,    0.,    0.,    0.,    0.],\n",
      "        [ 530.,    0.,    0.,    0.,    0.,    0.,    0.,    0.,    0.,    0.],\n",
      "        [ 444.,    0.,    0.,    0.,    0.,    0.,    0.,    0.,    0.,    0.],\n",
      "        [  82.,    0.,    0.,    0.,    0.,    0.,    0.,    0.,    0.,    0.],\n",
      "        [ 120.,    0.,    0.,    0.,    0.,    0.,    0.,    0.,    0.,    0.],\n",
      "        [ 264.,    0.,    0.,    0.,    0.,    0.,    0.,    0.,    0.,    0.],\n",
      "        [  35.,    0.,    0.,    0.,    0.,    0.,    0.,    0.,    0.,    0.],\n",
      "        [ 649.,    0.,    0.,    0.,    0.,    0.,    0.,    0.,    0.,    0.]])\n",
      "tensor([1., 0., 0., 0., 0., 0., 0., 0., 0., 0.])\n",
      "Average training loss: 0.10733331739902496\n",
      "Average training loss: 0.0706082135438919\n",
      "\n",
      "Test set: Average loss: 0.0002, Accuracy: 3603/3603 (100%)\n",
      "\n",
      "tensor([[3603.,    0.,    0.,    0.,    0.,    0.,    0.,    0.,    0.,    0.],\n",
      "        [   0.,    0.,    0.,    0.,    0.,    0.,    0.,    0.,    0.,    0.],\n",
      "        [   0.,    0.,    0.,    0.,    0.,    0.,    0.,    0.,    0.,    0.],\n",
      "        [   0.,    0.,    0.,    0.,    0.,    0.,    0.,    0.,    0.,    0.],\n",
      "        [   0.,    0.,    0.,    0.,    0.,    0.,    0.,    0.,    0.,    0.],\n",
      "        [   0.,    0.,    0.,    0.,    0.,    0.,    0.,    0.,    0.,    0.],\n",
      "        [   0.,    0.,    0.,    0.,    0.,    0.,    0.,    0.,    0.,    0.],\n",
      "        [   0.,    0.,    0.,    0.,    0.,    0.,    0.,    0.,    0.,    0.],\n",
      "        [   0.,    0.,    0.,    0.,    0.,    0.,    0.,    0.,    0.,    0.],\n",
      "        [   0.,    0.,    0.,    0.,    0.,    0.,    0.,    0.,    0.,    0.]])\n",
      "tensor([1., nan, nan, nan, nan, nan, nan, nan, nan, nan])\n",
      "\n",
      "Test set: Average loss: 11.5929, Accuracy: 197/3603 (5%)\n",
      "\n",
      "tensor([[ 197.,    0.,    0.,    0.,    0.,    0.,    0.,    0.,    0.,    0.],\n",
      "        [ 200.,    0.,    0.,    0.,    0.,    0.,    0.,    0.,    0.,    0.],\n",
      "        [1082.,    0.,    0.,    0.,    0.,    0.,    0.,    0.,    0.,    0.],\n",
      "        [ 530.,    0.,    0.,    0.,    0.,    0.,    0.,    0.,    0.,    0.],\n",
      "        [ 444.,    0.,    0.,    0.,    0.,    0.,    0.,    0.,    0.,    0.],\n",
      "        [  82.,    0.,    0.,    0.,    0.,    0.,    0.,    0.,    0.,    0.],\n",
      "        [ 120.,    0.,    0.,    0.,    0.,    0.,    0.,    0.,    0.,    0.],\n",
      "        [ 264.,    0.,    0.,    0.,    0.,    0.,    0.,    0.,    0.,    0.],\n",
      "        [  35.,    0.,    0.,    0.,    0.,    0.,    0.,    0.,    0.,    0.],\n",
      "        [ 649.,    0.,    0.,    0.,    0.,    0.,    0.,    0.,    0.,    0.]])\n",
      "tensor([1., 0., 0., 0., 0., 0., 0., 0., 0., 0.])\n",
      "Average training loss: 0.07513104379177094\n"
     ]
    }
   ],
   "source": [
    "model = Net().to(device)\n",
    "\n",
    "# stopped at:\n",
    "#model.load_state_dict(torch.load(\"newfaces_alexnet_224x224_augmented70.pt\"))\n",
    "optimizer = optim.SGD(model.parameters(), lr=0.01)\n",
    "\n",
    "#scheduler = torch.optim.lr_scheduler.ReduceLROnPlateau(optimizer, 'min')\n",
    "\n",
    "\n",
    "#set learing rate to value\n",
    "#for a in range(1,31):\n",
    "#    scheduler.step()\n",
    "\n",
    "#Write to file:\n",
    "dateString = datetime.datetime.now().strftime(\"%Y%m%d-%H%M%S\")\n",
    "\n",
    "f= open((\"exp_traffic_\"+dateString+\".txt\"),\"w+\")\n",
    "\n",
    "#EXP-setup\n",
    "csv_header = \"#merge strategy: \" + \"sequential\" + \"\\n\"\n",
    "csv_header += \"#number of distributed sources: \" + str(len(compute_nodes) + len(frauds)) + \"\\n\"\n",
    "csv_header += \"#batch size: \" + str(batch_size) + \"\\n\"\n",
    "csv_header += \"#distribution of data: \" + \"equally distributed subset\" + \"\\n\"\n",
    "csv_header += \"#percentage of backdoored nodes: \" + str(len(frauds)/(len(compute_nodes) + len(frauds))) + \"\\n\"\n",
    "csv_header += \"#percentage of poisoned data in backdoored nodes: \" + str(100) + \"\\n\"\n",
    "csv_header += \"#way backdoor looks like: \" + \"green_squares\" + \"\\n\"\n",
    "csv_header += \"#order of time: \" + \"backdoors last\" + \"\\n\"\n",
    "csv_header += \"#attack model: \" + \"basic\" + \"\\n\"\n",
    "csv_header += \"#starttime: \" + datetime.datetime.now().strftime(\"%H%M%S\") + \"\\n\"\n",
    "csv_header += \"training_type;epoch_number;learn_rate;avg_training_loss;avg_test_loss;test_accuracy;timestamp\" + \"\\n\"\n",
    "print(csv_header)\n",
    "f.write(csv_header)\n",
    "f.close()\n",
    "\n",
    "\n",
    "#RUN training\n",
    "for epoch in range(1, 500):\n",
    "    csv_normal = \"normal;\" + str(epoch) + \";\" + str(get_lr(optimizer)) + \";\"\n",
    "    csv_backdoor = \"backdoor;\" + str(epoch) + \";\" + str(get_lr(optimizer)) + \";\"\n",
    "    \n",
    "    #train normal\n",
    "    avg_training_loss = train(epoch, train_distributed_dataset)\n",
    "    csv_normal += str(avg_training_loss) + \";\"\n",
    "    timestamp_normal = datetime.datetime.now().strftime(\"%H%M%S\")\n",
    "\n",
    "    #train backdoor\n",
    "    avg_training_backdoor_loss = train(epoch, train_distributed_dataset_backdoor)\n",
    "    csv_backdoor += str(avg_training_backdoor_loss) + \";\"\n",
    "    timestamp_backdoor = datetime.datetime.now().strftime(\"%H%M%S\")\n",
    "    \n",
    "    #save after each 10 iterations\n",
    "    if epoch % 2 == 0:\n",
    "        torch.save(model.state_dict(), (\"exp_traffic_\"+dateString +\"_epoch_\" + str(epoch) + \".pt\"))\n",
    "        \n",
    "    #test backdoor\n",
    "    test_loss, acc = test(model, device, dataset_loader_backdoored_test, len(backdoored_test))\n",
    "    csv_backdoor += str(test_loss) + \";\" + acc + \";\"\n",
    "    \n",
    "    #test normal\n",
    "    test_loss, acc = test(model, device, test_loader, len(testdata))\n",
    "    csv_normal += str(test_loss) + \";\" + acc + \";\"\n",
    "\n",
    "    #scheduler.step(test_loss)\n",
    "\n",
    "    csv_normal += timestamp_normal + \"\\n\"\n",
    "    csv_backdoor += timestamp_backdoor + \"\\n\"\n",
    "    \n",
    "    #Write to file\n",
    "    f= open((\"exp_traffic_\"+dateString+\".txt\"),\"a+\")\n",
    "    f.write(csv_normal)\n",
    "    f.write(csv_backdoor)\n",
    "    f.close()\n",
    "\n",
    "    \n",
    "\n"
   ]
  },
  {
   "cell_type": "code",
   "execution_count": null,
   "metadata": {},
   "outputs": [],
   "source": []
  },
  {
   "cell_type": "code",
   "execution_count": null,
   "metadata": {},
   "outputs": [],
   "source": [
    "#model = Net().to(device)\n",
    "#model.load_state_dict(torch.load(\"newfaces_alexnet_224x224_augmented100.pt\"))\n",
    "#test(model, device, test_loader)\n"
   ]
  },
  {
   "cell_type": "code",
   "execution_count": null,
   "metadata": {},
   "outputs": [],
   "source": []
  },
  {
   "cell_type": "code",
   "execution_count": null,
   "metadata": {},
   "outputs": [],
   "source": []
  },
  {
   "cell_type": "code",
   "execution_count": null,
   "metadata": {},
   "outputs": [],
   "source": [
    "total_data"
   ]
  }
 ],
 "metadata": {
  "kernelspec": {
   "display_name": "Python 3",
   "language": "python",
   "name": "python3"
  },
  "language_info": {
   "codemirror_mode": {
    "name": "ipython",
    "version": 3
   },
   "file_extension": ".py",
   "mimetype": "text/x-python",
   "name": "python",
   "nbconvert_exporter": "python",
   "pygments_lexer": "ipython3",
   "version": "3.7.3"
  }
 },
 "nbformat": 4,
 "nbformat_minor": 2
}
